{
 "cells": [
  {
   "cell_type": "code",
   "execution_count": 208,
   "metadata": {},
   "outputs": [],
   "source": [
    "import pymysql\n",
    "import pymysql.cursors\n",
    "import sqlite3\n",
    "import ipywidgets as widgets\n",
    "from IPython.display import display\n",
    "import datetime\n",
    "import numpy as np\n",
    "import pandas as pd"
   ]
  },
  {
   "cell_type": "code",
   "execution_count": 218,
   "metadata": {},
   "outputs": [],
   "source": [
    "def get_db_conn_root():\n",
    "    connection = pymysql.connect(\n",
    "                    host='127.0.0.1',\n",
    "                    user='root',\n",
    "                    password='x3n0n136',\n",
    "                    db='lab206',\n",
    "                    port=3308,\n",
    "                    cursorclass=pymysql.cursors.DictCursor)\n",
    "    return connection\n",
    "\n",
    "def get_db_conn_write():\n",
    "    connection = pymysql.connect(\n",
    "                    host='127.0.0.1',\n",
    "                    user='exo_rw',\n",
    "                    password='x3n0n',\n",
    "                    db='lab206',\n",
    "                    port=3308,\n",
    "                    cursorclass=pymysql.cursors.DictCursor)\n",
    "    return connection\n",
    "\n",
    "def get_db_conn_read():\n",
    "    connection = pymysql.connect(\n",
    "                    host='127.0.0.1',\n",
    "                    user='exo_ro',\n",
    "                    password='xenon',\n",
    "                    db='lab206',\n",
    "                    port=3308,\n",
    "                    cursorclass=pymysql.cursors.DictCursor)\n",
    "    return connection\n",
    "\n",
    "\n",
    "def setup_db():\n",
    "    connection = get_db_conn_root()\n",
    "    haz_exoro = False\n",
    "    haz_exorw = False\n",
    "    haz_table = False\n",
    "    #Check Users:\n",
    "    try:\n",
    "        with connection.cursor() as cursor:\n",
    "            cursor.execute(\"SELECT User from mysql.user\")\n",
    "            ret_users = cursor.fetchall()\n",
    "            cursor.execute(\"SHOW TABLES LIKE 'testtable'\")\n",
    "            ret_tables = cursor.fetchall()\n",
    "    finally:\n",
    "        connection.close()\n",
    "    for u in ret_users:\n",
    "        if u['User'] == 'exo_ro':\n",
    "            print(\"User exo_ro already exists\")\n",
    "            haz_exoro = True\n",
    "        elif u['User'] == 'exo_rw':\n",
    "            print(\"User exo_rw already exists\")\n",
    "            haz_exorw = True\n",
    "    if len(ret_tables)>0:\n",
    "            print(\"Table testtables already exists\")\n",
    "            haz_table = True\n",
    "    if False in [haz_exoro, haz_exorw, haz_table]:\n",
    "        connection = get_db_conn_root()\n",
    "        try:\n",
    "            with connection.cursor() as cursor:\n",
    "                if not haz_exoro:\n",
    "                    print(\"Creating exo_ro user\")\n",
    "                    sql = \"CREATE USER 'exo_ro'@'%' IDENTIFIED BY 'xenon';\"\n",
    "                    cursor.execute(sql)\n",
    "                    connection.commit()\n",
    "                    sql = \"GRANT SELECT ON lab206.* to 'exo_ro'@'%';\"\n",
    "                    cursor.execute(sql)\n",
    "                    connection.commit()\n",
    "                    cursor.execute(\"FLUSH PRIVILEGES\")\n",
    "                    connection.commit()\n",
    "                if not haz_exorw:\n",
    "                    print(\"Creating exo_rw user\")\n",
    "                    sql = \"CREATE USER 'exo_rw'@'%' IDENTIFIED BY 'x3n0n';\"\n",
    "                    cursor.execute(sql)\n",
    "                    connection.commit()\n",
    "                    sql = \"GRANT SELECT, INSERT ON lab206.* to 'exo_rw'@'%'\"\n",
    "                    cursor.execute(sql)\n",
    "                    connection.commit()\n",
    "                    cursor.execute(\"FLUSH PRIVILEGES\")\n",
    "                    connection.commit()\n",
    "                if not haz_table:\n",
    "                    print(\"Creating table testtable\")\n",
    "                    sql = \"\"\"CREATE TABLE testtable (\n",
    "                             time TIMESTAMP, \n",
    "                             v1 DECIMAL(6,4),\n",
    "                             v2 DECIMAL(6,4),\n",
    "                             v3 DECIMAL(6,4),\n",
    "                             v4 DECIMAL(6,4),\n",
    "                             v5 DECIMAL(6,4)\n",
    "                             );\"\"\"\n",
    "                    cursor.execute(sql)\n",
    "                    connection.commit()\n",
    "        finally:\n",
    "            connection.close()   \n",
    "            \n",
    "def get_db_users():\n",
    "    connection = get_db_conn_root()\n",
    "    try:\n",
    "        with connection.cursor() as cursor:\n",
    "            sql = \"SELECT User, Host, authentication_string FROM mysql.user;\"\n",
    "            cursor.execute(sql)\n",
    "            users = cursor.fetchall()\n",
    "    finally:\n",
    "        connection.close()\n",
    "    print(users)\n",
    "    \n",
    "def db_data_point():\n",
    "    timestamp = datetime.datetime.now().strftime('%Y-%m-%d %H:%M:%S')\n",
    "    #timestamp = time.time()\n",
    "    randdata = numpy.random.random_sample(5)\n",
    "    v1 = 25+randdata[0]\n",
    "    v2 = 25+randdata[1]*5\n",
    "    v3 = 25+randdata[2]*3\n",
    "    v4 = 1+randdata[3]*0.25\n",
    "    v5 = 5+randdata[4]\n",
    "    connection = get_db_conn_write()\n",
    "    try:\n",
    "        with connection.cursor() as cursor:\n",
    "            values_str = \"'%s', '%f', '%f', '%f', '%.4f', '%f'\"%(timestamp, v1, v2, v3, v4, v5)\n",
    "            sql = \"\"\"INSERT INTO testtable \n",
    "                     (time, v1, v2, v3, v4, v5)\n",
    "                     VALUES (%s);\"\"\"%values_str\n",
    "            #print(sql)\n",
    "            cursor.execute(sql)\n",
    "            connection.commit()\n",
    "    finally:\n",
    "        connection.close()\n",
    "\n",
    "def get_data(t0,tf,np=0):\n",
    "    if type(t0) == datetime.datetime:\n",
    "        t0 = t0.strftime('%Y-%m-%d %H:%M:%S')\n",
    "    if type(tf) == datetime.datetime:\n",
    "        tf = tf.strftime('%Y-%m-%d %H:%M:%S')\n",
    "    sql = \"SELECT * FROM testtable WHERE time > '%s' AND time < '%s'\"%(t0,tf)\n",
    "    connection = get_db_conn_read()\n",
    "    try:\n",
    "        with connection.cursor() as cursor:\n",
    "            cursor.execute(sql)\n",
    "            data = cursor.fetchall()\n",
    "    finally:\n",
    "        connection.close()\n",
    "    return pd.DataFrame(data)"
   ]
  },
  {
   "cell_type": "code",
   "execution_count": 219,
   "metadata": {},
   "outputs": [
    {
     "name": "stdout",
     "output_type": "stream",
     "text": [
      "User exo_ro already exists\n",
      "User exo_rw already exists\n",
      "Table testtables already exists\n",
      "[{'User': 'exo_ro', 'Host': '%', 'authentication_string': '$A$005$(P+(K(/c{Ar\\x0c\\\\?\\x04\\x0f\\x1c99\\x18jxWA2dsZzNDsi0YDcBlJtn9vQhflGr7mrJGpABtYQtC'}, {'User': 'exo_rw', 'Host': '%', 'authentication_string': '$A$005$\\x05/qmQ\\x01H{\\x1b2UE\\x1a0[U\\x04\\x7f\\x02}YLFJTrn2HimAPDsKherZGzPFCviPf5LRO17iBR2.b44'}, {'User': 'root', 'Host': '%', 'authentication_string': '$A$005$YeP\\x02*\\x01\\\\p>>c2kO\\x07\\x083Cm*BPZGYdprkffOHDXofWWOpqMgckV28Nt6mEUi10fYcPA'}, {'User': 'mysql.infoschema', 'Host': 'localhost', 'authentication_string': '$A$005$THISISACOMBINATIONOFINVALIDSALTANDPASSWORDTHATMUSTNEVERBRBEUSED'}, {'User': 'mysql.session', 'Host': 'localhost', 'authentication_string': '$A$005$THISISACOMBINATIONOFINVALIDSALTANDPASSWORDTHATMUSTNEVERBRBEUSED'}, {'User': 'mysql.sys', 'Host': 'localhost', 'authentication_string': '$A$005$THISISACOMBINATIONOFINVALIDSALTANDPASSWORDTHATMUSTNEVERBRBEUSED'}, {'User': 'root', 'Host': 'localhost', 'authentication_string': '$A$005$\\x7f3Q76o#o\\x02).8E4oOZ)L_ak6BnJ2griNToccpwGj9fY2b3pSkho/FoJT/o1z5Ea0'}]\n"
     ]
    }
   ],
   "source": [
    "setup_db()\n",
    "get_db_users()"
   ]
  },
  {
   "cell_type": "code",
   "execution_count": 230,
   "metadata": {},
   "outputs": [
    {
     "name": "stderr",
     "output_type": "stream",
     "text": [
      "C:\\Users\\bung\\Anaconda3\\envs\\mysqlplotly\\lib\\site-packages\\pymysql\\cursors.py:329: Warning:\n",
      "\n",
      "(1265, \"Data truncated for column 'v1' at row 1\")\n",
      "\n",
      "C:\\Users\\bung\\Anaconda3\\envs\\mysqlplotly\\lib\\site-packages\\pymysql\\cursors.py:329: Warning:\n",
      "\n",
      "(1265, \"Data truncated for column 'v2' at row 1\")\n",
      "\n",
      "C:\\Users\\bung\\Anaconda3\\envs\\mysqlplotly\\lib\\site-packages\\pymysql\\cursors.py:329: Warning:\n",
      "\n",
      "(1265, \"Data truncated for column 'v3' at row 1\")\n",
      "\n",
      "C:\\Users\\bung\\Anaconda3\\envs\\mysqlplotly\\lib\\site-packages\\pymysql\\cursors.py:329: Warning:\n",
      "\n",
      "(1265, \"Data truncated for column 'v5' at row 1\")\n",
      "\n"
     ]
    }
   ],
   "source": [
    "for i in range(20):\n",
    "    db_data_point()\n",
    "    time.sleep(2)"
   ]
  },
  {
   "cell_type": "code",
   "execution_count": 221,
   "metadata": {},
   "outputs": [],
   "source": [
    "t0 = datetime.datetime.now() - datetime.timedelta(seconds=1000)\n",
    "tf = datetime.datetime.now()\n",
    "data = get_data(t0, tf)"
   ]
  },
  {
   "cell_type": "code",
   "execution_count": 226,
   "metadata": {},
   "outputs": [
    {
     "data": {
      "text/plain": [
       "0   2020-01-19 19:19:30\n",
       "1   2020-01-19 19:19:33\n",
       "2   2020-01-19 19:19:34\n",
       "3   2020-01-19 19:19:36\n",
       "4   2020-01-19 19:19:38\n",
       "5   2020-01-19 19:20:04\n",
       "Name: time, dtype: datetime64[ns]"
      ]
     },
     "execution_count": 226,
     "metadata": {},
     "output_type": "execute_result"
    }
   ],
   "source": [
    "data[\"time\"][:]"
   ]
  },
  {
   "cell_type": "code",
   "execution_count": 227,
   "metadata": {},
   "outputs": [
    {
     "name": "stderr",
     "output_type": "stream",
     "text": [
      "C:\\Users\\bung\\Anaconda3\\envs\\mysqlplotly\\lib\\site-packages\\pandas\\plotting\\_matplotlib\\converter.py:103: FutureWarning:\n",
      "\n",
      "Using an implicitly registered datetime converter for a matplotlib plotting method. The converter was registered by pandas on import. Future versions of pandas will require you to explicitly register matplotlib converters.\n",
      "\n",
      "To register the converters:\n",
      "\t>>> from pandas.plotting import register_matplotlib_converters\n",
      "\t>>> register_matplotlib_converters()\n",
      "\n"
     ]
    },
    {
     "data": {
      "text/plain": [
       "[<matplotlib.lines.Line2D at 0x228d904ec88>]"
      ]
     },
     "execution_count": 227,
     "metadata": {},
     "output_type": "execute_result"
    },
    {
     "data": {
      "image/png": "[encoded data removed]",
      "text/plain": [
       "<Figure size 432x288 with 1 Axes>"
      ]
     },
     "metadata": {
      "needs_background": "light"
     },
     "output_type": "display_data"
    }
   ],
   "source": [
    "import matplotlib.pyplot as plt\n",
    "plt.plot(data[\"time\"],data[\"v1\"])"
   ]
  },
  {
   "cell_type": "code",
   "execution_count": 229,
   "metadata": {},
   "outputs": [
    {
     "data": {
      "text/plain": [
       "array([Timestamp('2020-01-19 19:19:30'), Timestamp('2020-01-19 19:19:33'),\n",
       "       Timestamp('2020-01-19 19:19:34'), Timestamp('2020-01-19 19:19:36'),\n",
       "       Timestamp('2020-01-19 19:19:38'), Timestamp('2020-01-19 19:20:04')],\n",
       "      dtype=object)"
      ]
     },
     "execution_count": 229,
     "metadata": {},
     "output_type": "execute_result"
    }
   ],
   "source": [
    "data.to_numpy()[:,0]"
   ]
  },
  {
   "cell_type": "code",
   "execution_count": 206,
   "metadata": {},
   "outputs": [
    {
     "data": {
      "text/plain": [
       "{'time': datetime.datetime(2020, 1, 19, 18, 47),\n",
       " 'v1': Decimal('25.3604'),\n",
       " 'v2': Decimal('28.4813'),\n",
       " 'v3': Decimal('27.8774'),\n",
       " 'v4': Decimal('1.0643'),\n",
       " 'v5': Decimal('5.8642')}"
      ]
     },
     "execution_count": 206,
     "metadata": {},
     "output_type": "execute_result"
    }
   ],
   "source": []
  },
  {
   "cell_type": "code",
   "execution_count": null,
   "metadata": {},
   "outputs": [],
   "source": []
  }
 ],
 "metadata": {
  "kernelspec": {
   "display_name": "Python 3",
   "language": "python",
   "name": "python3"
  },
  "language_info": {
   "codemirror_mode": {
    "name": "ipython",
    "version": 3
   },
   "file_extension": ".py",
   "mimetype": "text/x-python",
   "name": "python",
   "nbconvert_exporter": "python",
   "pygments_lexer": "ipython3",
   "version": "3.7.6"
  }
 },
 "nbformat": 4,
 "nbformat_minor": 4
}
