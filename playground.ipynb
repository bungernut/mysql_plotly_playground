{
 "cells": [
  {
   "cell_type": "code",
   "execution_count": 120,
   "metadata": {},
   "outputs": [],
   "source": [
    "import pymysql\n",
    "import pymysql.cursors\n",
    "import sqlite3\n",
    "import ipywidgets as widgets\n",
    "from IPython.display import display\n",
    "import datetime, numpy"
   ]
  },
  {
   "cell_type": "code",
   "execution_count": 121,
   "metadata": {},
   "outputs": [],
   "source": [
    "def get_db_conn_root():\n",
    "    connection = pymysql.connect(\n",
    "                    host='127.0.0.1',\n",
    "                    user='root',\n",
    "                    password='x3n0n136',\n",
    "                    db='lab206',\n",
    "                    port=3308,\n",
    "                    cursorclass=pymysql.cursors.DictCursor)\n",
    "    return connection\n",
    "\n",
    "def get_db_conn_write():\n",
    "    connection = pymysql.connect(\n",
    "                    host='127.0.0.1',\n",
    "                    user='exo_rw',\n",
    "                    password='x3n0n',\n",
    "                    db='lab206',\n",
    "                    port=3308,\n",
    "                    cursorclass=pymysql.cursors.DictCursor)\n",
    "    return connection\n",
    "\n",
    "def get_db_conn_read():\n",
    "    connection = pymysql.connect(\n",
    "                    host='127.0.0.1',\n",
    "                    user='exo_r0',\n",
    "                    password='xenon',\n",
    "                    db='lab206',\n",
    "                    port=3308,\n",
    "                    cursorclass=pymysql.cursors.DictCursor)\n",
    "    return connection\n",
    "\n",
    "\n",
    "def setup_db():\n",
    "    connection = get_db_conn_root()\n",
    "    haz_exoro = False\n",
    "    haz_exorw = False\n",
    "    haz_table = False\n",
    "    #Check Users:\n",
    "    try:\n",
    "        with connection.cursor() as cursor:\n",
    "            cursor.execute(\"SELECT User from mysql.user\")\n",
    "            ret_users = cursor.fetchall()\n",
    "            cursor.execute(\"SHOW TABLES LIKE 'testtable'\")\n",
    "            ret_tables = cursor.fetchall()\n",
    "    finally:\n",
    "        connection.close()\n",
    "    for u in ret_users:\n",
    "        if u['User'] == 'exo_ro':\n",
    "            print(\"User exo_ro already exists\")\n",
    "            haz_exoro = True\n",
    "        elif u['User'] == 'exo_rw':\n",
    "            print(\"User exo_rw already exists\")\n",
    "            haz_exorw = True\n",
    "    if len(ret_tables)>0:\n",
    "            print(\"Table testtables already exists\")\n",
    "            haz_table = True\n",
    "    if False in [haz_exoro, haz_exorw, haz_table]:\n",
    "        connection = get_db_conn_root()\n",
    "        try:\n",
    "            with connection.cursor() as cursor:\n",
    "                if not haz_exoro:\n",
    "                    print(\"Creating exo_ro user\")\n",
    "                    sql = \"CREATE USER 'exo_ro'@'%' IDENTIFIED BY 'xenon';\"\n",
    "                    cursor.execute(sql)\n",
    "                    connection.commit()\n",
    "                    sql = \"GRANT SELECT ON lab206.* to 'exo_ro'@'%';\"\n",
    "                    cursor.execute(sql)\n",
    "                    connection.commit()\n",
    "                    cursor.execute(\"FLUSH PRIVILEGES\")\n",
    "                    connection.commit()\n",
    "                if not haz_exorw:\n",
    "                    print(\"Creating exo_rw user\")\n",
    "                    sql = \"CREATE USER 'exo_rw'@'%' IDENTIFIED BY 'x3n0n';\"\n",
    "                    cursor.execute(sql)\n",
    "                    connection.commit()\n",
    "                    sql = \"GRANT SELECT, INSERT ON lab206.* to 'exo_rw'@'%'\"\n",
    "                    cursor.execute(sql)\n",
    "                    connection.commit()\n",
    "                    cursor.execute(\"FLUSH PRIVILEGES\")\n",
    "                    connection.commit()\n",
    "                if not haz_table:\n",
    "                    print(\"Creating table testtable\")\n",
    "                    sql = \"\"\"CREATE TABLE testtable (\n",
    "                             time TIMESTAMP, \n",
    "                             v1 DECIMAL(6,4),\n",
    "                             v2 DECIMAL(6,4),\n",
    "                             v3 DECIMAL(6,4),\n",
    "                             v4 DECIMAL(6,4),\n",
    "                             v5 DECIMAL(6,4)\n",
    "                             );\"\"\"\n",
    "                    cursor.execute(sql)\n",
    "                    connection.commit()\n",
    "        finally:\n",
    "            connection.close()   \n",
    "            \n",
    "def get_db_users():\n",
    "    connection = get_db_conn_root()\n",
    "    try:\n",
    "        with connection.cursor() as cursor:\n",
    "            sql = \"SELECT User, Host, authentication_string FROM mysql.user;\"\n",
    "            cursor.execute(sql)\n",
    "            users = cursor.fetchall()\n",
    "    finally:\n",
    "        connection.close()\n",
    "    print(users)"
   ]
  },
  {
   "cell_type": "code",
   "execution_count": 122,
   "metadata": {},
   "outputs": [
    {
     "name": "stdout",
     "output_type": "stream",
     "text": [
      "Creating exo_ro user\n",
      "Creating exo_rw user\n",
      "Creating table testtable\n",
      "[{'User': 'exo_ro', 'Host': '%', 'authentication_string': '$A$005$(P+(K(/c{Ar\\x0c\\\\?\\x04\\x0f\\x1c99\\x18jxWA2dsZzNDsi0YDcBlJtn9vQhflGr7mrJGpABtYQtC'}, {'User': 'exo_rw', 'Host': '%', 'authentication_string': '$A$005$\\x05/qmQ\\x01H{\\x1b2UE\\x1a0[U\\x04\\x7f\\x02}YLFJTrn2HimAPDsKherZGzPFCviPf5LRO17iBR2.b44'}, {'User': 'root', 'Host': '%', 'authentication_string': '$A$005$YeP\\x02*\\x01\\\\p>>c2kO\\x07\\x083Cm*BPZGYdprkffOHDXofWWOpqMgckV28Nt6mEUi10fYcPA'}, {'User': 'mysql.infoschema', 'Host': 'localhost', 'authentication_string': '$A$005$THISISACOMBINATIONOFINVALIDSALTANDPASSWORDTHATMUSTNEVERBRBEUSED'}, {'User': 'mysql.session', 'Host': 'localhost', 'authentication_string': '$A$005$THISISACOMBINATIONOFINVALIDSALTANDPASSWORDTHATMUSTNEVERBRBEUSED'}, {'User': 'mysql.sys', 'Host': 'localhost', 'authentication_string': '$A$005$THISISACOMBINATIONOFINVALIDSALTANDPASSWORDTHATMUSTNEVERBRBEUSED'}, {'User': 'root', 'Host': 'localhost', 'authentication_string': '$A$005$\\x7f3Q76o#o\\x02).8E4oOZ)L_ak6BnJ2griNToccpwGj9fY2b3pSkho/FoJT/o1z5Ea0'}]\n"
     ]
    }
   ],
   "source": [
    "setup_db()\n",
    "get_db_users()"
   ]
  },
  {
   "cell_type": "code",
   "execution_count": 123,
   "metadata": {},
   "outputs": [],
   "source": [
    "def db_data_point():\n",
    "    timestamp = datetime.datetime.now().strftime('%Y-%m-%d %H:%M:%S')\n",
    "    #timestamp = time.time()\n",
    "    randdata = numpy.random.random_sample(5)\n",
    "    v1 = 25+randdata[0]\n",
    "    v2 = 25+randdata[1]*5\n",
    "    v3 = 25+randdata[2]*3\n",
    "    v4 = 1+randdata[3]*0.25\n",
    "    v5 = 5+randdata[4]\n",
    "    connection = get_db_conn_write()\n",
    "    try:\n",
    "        with connection.cursor() as cursor:\n",
    "            values_str = \"'%s', '%f', '%f', '%f', '%.4f', '%f'\"%(timestamp, v1, v2, v3, v4, v5)\n",
    "            sql = \"\"\"INSERT INTO testtable \n",
    "                     (time, v1, v2, v3, v4, v5)\n",
    "                     VALUES (%s);\"\"\"%values_str\n",
    "            print(sql)\n",
    "            cursor.execute(sql)\n",
    "            connection.commit()\n",
    "    finally:\n",
    "        connection.close()            "
   ]
  },
  {
   "cell_type": "code",
   "execution_count": null,
   "metadata": {},
   "outputs": [
    {
     "name": "stdout",
     "output_type": "stream",
     "text": [
      "INSERT INTO testtable \n",
      "                     (time, v1, v2, v3, v4, v5)\n",
      "                     VALUES ('2020-01-19 18:34:46', '25.889077', '28.463496', '27.153654', '1.0287', '5.417481');\n"
     ]
    },
    {
     "name": "stderr",
     "output_type": "stream",
     "text": [
      "C:\\Users\\bung\\Anaconda3\\envs\\mysqlplotly\\lib\\site-packages\\pymysql\\cursors.py:329: Warning: (1265, \"Data truncated for column 'v1' at row 1\")\n",
      "  self._do_get_result()\n",
      "C:\\Users\\bung\\Anaconda3\\envs\\mysqlplotly\\lib\\site-packages\\pymysql\\cursors.py:329: Warning: (1265, \"Data truncated for column 'v2' at row 1\")\n",
      "  self._do_get_result()\n",
      "C:\\Users\\bung\\Anaconda3\\envs\\mysqlplotly\\lib\\site-packages\\pymysql\\cursors.py:329: Warning: (1265, \"Data truncated for column 'v3' at row 1\")\n",
      "  self._do_get_result()\n",
      "C:\\Users\\bung\\Anaconda3\\envs\\mysqlplotly\\lib\\site-packages\\pymysql\\cursors.py:329: Warning: (1265, \"Data truncated for column 'v5' at row 1\")\n",
      "  self._do_get_result()\n"
     ]
    },
    {
     "name": "stdout",
     "output_type": "stream",
     "text": [
      "INSERT INTO testtable \n",
      "                     (time, v1, v2, v3, v4, v5)\n",
      "                     VALUES ('2020-01-19 18:34:48', '25.722996', '28.366987', '27.335945', '1.1027', '5.715816');\n",
      "INSERT INTO testtable \n",
      "                     (time, v1, v2, v3, v4, v5)\n",
      "                     VALUES ('2020-01-19 18:34:50', '25.519226', '27.719219', '27.132911', '1.1621', '5.158477');\n",
      "INSERT INTO testtable \n",
      "                     (time, v1, v2, v3, v4, v5)\n",
      "                     VALUES ('2020-01-19 18:34:52', '25.980271', '28.203535', '25.058357', '1.2097', '5.299559');\n",
      "INSERT INTO testtable \n",
      "                     (time, v1, v2, v3, v4, v5)\n",
      "                     VALUES ('2020-01-19 18:34:54', '25.058401', '25.419512', '26.335637', '1.1791', '5.862456');\n",
      "INSERT INTO testtable \n",
      "                     (time, v1, v2, v3, v4, v5)\n",
      "                     VALUES ('2020-01-19 18:34:56', '25.985767', '28.586938', '27.406951', '1.2392', '5.746111');\n",
      "INSERT INTO testtable \n",
      "                     (time, v1, v2, v3, v4, v5)\n",
      "                     VALUES ('2020-01-19 18:34:58', '25.479674', '29.093378', '27.075449', '1.0991', '5.371472');\n",
      "INSERT INTO testtable \n",
      "                     (time, v1, v2, v3, v4, v5)\n",
      "                     VALUES ('2020-01-19 18:35:00', '25.152628', '29.315732', '25.860684', '1.0498', '5.003440');\n",
      "INSERT INTO testtable \n",
      "                     (time, v1, v2, v3, v4, v5)\n",
      "                     VALUES ('2020-01-19 18:35:02', '25.726200', '27.344934', '26.885830', '1.0167', '5.283805');\n",
      "INSERT INTO testtable \n",
      "                     (time, v1, v2, v3, v4, v5)\n",
      "                     VALUES ('2020-01-19 18:35:04', '25.014264', '26.019875', '27.721204', '1.0570', '5.179898');\n",
      "INSERT INTO testtable \n",
      "                     (time, v1, v2, v3, v4, v5)\n",
      "                     VALUES ('2020-01-19 18:35:06', '25.735179', '25.600438', '25.937169', '1.0431', '5.459701');\n",
      "INSERT INTO testtable \n",
      "                     (time, v1, v2, v3, v4, v5)\n",
      "                     VALUES ('2020-01-19 18:35:08', '25.611681', '25.257647', '26.350295', '1.1399', '5.425396');\n",
      "INSERT INTO testtable \n",
      "                     (time, v1, v2, v3, v4, v5)\n",
      "                     VALUES ('2020-01-19 18:35:10', '25.969586', '26.452415', '27.460416', '1.0595', '5.045118');\n",
      "INSERT INTO testtable \n",
      "                     (time, v1, v2, v3, v4, v5)\n",
      "                     VALUES ('2020-01-19 18:35:12', '25.092547', '26.385210', '26.971467', '1.0246', '5.831517');\n",
      "INSERT INTO testtable \n",
      "                     (time, v1, v2, v3, v4, v5)\n",
      "                     VALUES ('2020-01-19 18:35:14', '25.700081', '28.009647', '25.852788', '1.2024', '5.978035');\n",
      "INSERT INTO testtable \n",
      "                     (time, v1, v2, v3, v4, v5)\n",
      "                     VALUES ('2020-01-19 18:35:16', '25.002069', '28.252850', '25.755891', '1.0290', '5.366891');\n",
      "INSERT INTO testtable \n",
      "                     (time, v1, v2, v3, v4, v5)\n",
      "                     VALUES ('2020-01-19 18:35:18', '25.841498', '27.525400', '26.731348', '1.1911', '5.491762');\n"
     ]
    }
   ],
   "source": [
    "for i in range(100):\n",
    "    db_data_point()\n",
    "    time.sleep(2)"
   ]
  },
  {
   "cell_type": "code",
   "execution_count": null,
   "metadata": {},
   "outputs": [],
   "source": []
  },
  {
   "cell_type": "code",
   "execution_count": 96,
   "metadata": {},
   "outputs": [
    {
     "data": {
      "text/plain": [
       "1579485222.818773"
      ]
     },
     "execution_count": 96,
     "metadata": {},
     "output_type": "execute_result"
    }
   ],
   "source": []
  },
  {
   "cell_type": "code",
   "execution_count": null,
   "metadata": {},
   "outputs": [],
   "source": []
  }
 ],
 "metadata": {
  "kernelspec": {
   "display_name": "Python 3",
   "language": "python",
   "name": "python3"
  },
  "language_info": {
   "codemirror_mode": {
    "name": "ipython",
    "version": 3
   },
   "file_extension": ".py",
   "mimetype": "text/x-python",
   "name": "python",
   "nbconvert_exporter": "python",
   "pygments_lexer": "ipython3",
   "version": "3.7.6"
  }
 },
 "nbformat": 4,
 "nbformat_minor": 4
}
